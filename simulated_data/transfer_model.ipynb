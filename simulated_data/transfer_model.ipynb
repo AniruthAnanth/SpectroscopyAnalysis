{
 "cells": [
  {
   "cell_type": "code",
   "execution_count": 1,
   "id": "import-libraries",
   "metadata": {},
   "outputs": [],
   "source": [
    "import json\n",
    "import numpy as np\n",
    "from sklearn import preprocessing\n",
    "from sklearn.model_selection import train_test_split\n",
    "import torch\n",
    "import torch.nn as nn\n",
    "import torch.optim as optim\n",
    "from torch.utils.data import DataLoader, TensorDataset\n",
    "from torchvision import models\n",
    "from sklearn.metrics import mean_absolute_error"
   ]
  },
  {
   "cell_type": "code",
   "execution_count": 2,
   "id": "data-loading-preprocessing",
   "metadata": {},
   "outputs": [
    {
     "data": {
      "text/plain": [
       "2000"
      ]
     },
     "execution_count": 2,
     "metadata": {},
     "output_type": "execute_result"
    }
   ],
   "source": [
    "# Data loading and preprocessing\n",
    "with open('data.json', 'r') as f:\n",
    "    raw_data = json.load(f)\n",
    "\n",
    "def convert_data_point(data_point):\n",
    "    wl = np.array(data_point[\"wl\"])\n",
    "    r = np.array(data_point[\"r\"])\n",
    "    c = np.array([item[2] for item in data_point[\"l\"]])\n",
    "    return wl, r, c\n",
    "\n",
    "X, y, wl = [], [], None\n",
    "for data_point in raw_data:\n",
    "    wl_, r, c = convert_data_point(data_point)\n",
    "    X.append(r) \n",
    "    y.append(c)\n",
    "    wl = wl_\n",
    "\n",
    "X = np.array(X)\n",
    "y = np.array(y)\n",
    "X = preprocessing.normalize(X)\n",
    "y = preprocessing.normalize(y)\n",
    "\n",
    "len(X)"
   ]
  },
  {
   "cell_type": "code",
   "execution_count": 3,
   "id": "8c404d9e-c265-4675-acd5-47ac09cf4e36",
   "metadata": {},
   "outputs": [],
   "source": [
    "def evaluate_model(model, dataloader):\n",
    "    model.eval()\n",
    "    all_targets = []\n",
    "    all_predictions = []\n",
    "    with torch.no_grad():\n",
    "        for inputs, targets in dataloader:\n",
    "            inputs = inputs.unsqueeze(1)  # Add channel dimension\n",
    "            outputs = model(inputs)\n",
    "            all_targets.extend(targets.numpy())\n",
    "            all_predictions.extend(outputs.numpy())\n",
    "    mae = mean_absolute_error(all_targets, all_predictions)\n",
    "    return mae"
   ]
  },
  {
   "cell_type": "code",
   "execution_count": 4,
   "id": "convert-to-tensors",
   "metadata": {},
   "outputs": [],
   "source": [
    "# Convert data to PyTorch tensors and add a channel dimension\n",
    "X = torch.tensor(X, dtype=torch.float32).unsqueeze(1)  # Add channel dimension\n",
    "y = torch.tensor(y, dtype=torch.float32)\n",
    "\n",
    "# Split the data into training and testing sets\n",
    "X_train, X_test, y_train, y_test = train_test_split(X, y, test_size=0.2, random_state=42)\n",
    "\n",
    "# Create datasets and data loaders\n",
    "train_dataset = TensorDataset(X_train, y_train)\n",
    "test_dataset = TensorDataset(X_test, y_test)\n",
    "train_loader = DataLoader(train_dataset, batch_size=64, shuffle=True)\n",
    "test_loader = DataLoader(test_dataset, batch_size=64, shuffle=False)"
   ]
  },
  {
   "cell_type": "code",
   "execution_count": 5,
   "id": "load-model",
   "metadata": {},
   "outputs": [
    {
     "name": "stderr",
     "output_type": "stream",
     "text": [
      "Using cache found in /home/aniruth/.cache/torch/hub/pytorch_vision_v0.20.0\n",
      "/home/aniruth/.local/lib/python3.10/site-packages/torchvision/models/_utils.py:208: UserWarning: The parameter 'pretrained' is deprecated since 0.13 and may be removed in the future, please use 'weights' instead.\n",
      "  warnings.warn(\n",
      "/home/aniruth/.local/lib/python3.10/site-packages/torchvision/models/_utils.py:223: UserWarning: Arguments other than a weight enum or `None` for 'weights' are deprecated since 0.13 and may be removed in the future. The current behavior is equivalent to passing `weights=ResNet18_Weights.IMAGENET1K_V1`. You can also use `weights=ResNet18_Weights.DEFAULT` to get the most up-to-date weights.\n",
      "  warnings.warn(msg)\n"
     ]
    }
   ],
   "source": [
    "# Load a pretrained ResNet18 model\n",
    "model = torch.hub.load('pytorch/vision:v0.20.0', 'resnet18', pretrained=True)\n",
    "\n",
    "# Modify the first convolutional layer to accept 1 input channel instead of 3\n",
    "model.conv1 = nn.Conv2d(1, model.conv1.out_channels, kernel_size=model.conv1.kernel_size, \n",
    "                        stride=model.conv1.stride, padding=model.conv1.padding, bias=False)\n",
    "\n",
    "# Modify the final layer to match the number of output classes\n",
    "num_features = model.fc.in_features\n",
    "model.fc = nn.Linear(num_features, y.shape[1])\n",
    "\n",
    "def mae(y_pred, y_true):\n",
    "    \"\"\"\n",
    "    Calculates the Mean Absolute Error between predictions (y_pred) and ground truth (y_true).\n",
    "    \"\"\"\n",
    "    return torch.nn.functional.l1_loss(y_pred, y_true) \n",
    "\n",
    "# Define loss function and optimizer\n",
    "def RMSELoss(yhat,y):\n",
    "    return torch.sqrt(torch.mean((yhat-y)**2))\n",
    "\n",
    "criterion = RMSELoss\n",
    "optimizer = optim.Adam(model.parameters(), lr=0.001)\n",
    "\n",
    "#model.load_state_dict(torch.load('best_model.pth', weights_only=True))"
   ]
  },
  {
   "cell_type": "code",
   "execution_count": 7,
   "id": "training-loop",
   "metadata": {},
   "outputs": [
    {
     "name": "stdout",
     "output_type": "stream",
     "text": [
      "Starting training\n",
      "Epoch 1/100, Loss: 0.0710665138810873, Val Loss: 0.06629973011357444\n",
      "Epoch 2/100, Loss: 0.08707395479083062, Val Loss: 0.7242446712085179\n",
      "Patience 1\n",
      "Epoch 3/100, Loss: 0.1005570637434721, Val Loss: 0.1551450171640941\n",
      "Patience 2\n",
      "Epoch 4/100, Loss: 0.07342067822813987, Val Loss: 0.04451176630599158\n",
      "Epoch 5/100, Loss: 0.07616621024906635, Val Loss: 0.5513389536312648\n",
      "Patience 1\n",
      "Epoch 6/100, Loss: 0.08191115945577622, Val Loss: 0.12288133161408561\n",
      "Patience 2\n",
      "Epoch 7/100, Loss: 0.07235990270972252, Val Loss: 0.16936772423131125\n",
      "Patience 3\n",
      "Epoch 8/100, Loss: 0.08954766184091568, Val Loss: 0.1168310631598745\n",
      "Patience 4\n",
      "Epoch 9/100, Loss: 0.0733503219485283, Val Loss: 0.07181570678949356\n",
      "Patience 5\n",
      "Early stopping\n"
     ]
    }
   ],
   "source": [
    "# Training loop\n",
    "print(\"Starting training\")\n",
    "num_epochs = 100\n",
    "patience = 5  # Number of epochs to wait for improvement\n",
    "best_val_loss = float('inf')\n",
    "epochs_no_improve = 0\n",
    "\n",
    "for epoch in range(num_epochs):\n",
    "    model.train()\n",
    "    running_loss = 0.0\n",
    "    for inputs, targets in train_loader:\n",
    "        inputs = inputs.unsqueeze(1)  # Add channel dimension\n",
    "        optimizer.zero_grad()\n",
    "        outputs = model(inputs)\n",
    "        loss = criterion(outputs, targets)\n",
    "        loss.backward()\n",
    "        optimizer.step()\n",
    "        running_loss += loss.item()\n",
    "    \n",
    "    # Validation loop\n",
    "    model.eval()\n",
    "    val_loss = 0.0\n",
    "    with torch.no_grad():\n",
    "        for inputs, targets in test_loader:\n",
    "            inputs = inputs.unsqueeze(1)  # Add channel dimension\n",
    "            outputs = model(inputs)\n",
    "            loss = criterion(outputs, targets)\n",
    "            val_loss += loss.item()\n",
    "    \n",
    "    val_loss /= len(test_loader)\n",
    "    print(f\"Epoch {epoch+1}/{num_epochs}, Loss: {running_loss/len(train_loader)}, Val Loss: {val_loss}\")\n",
    "    torch.save(model.state_dict(), 'last_model.pth')\n",
    "    \n",
    "    # Early stopping\n",
    "    if val_loss < best_val_loss:\n",
    "        best_val_loss = val_loss\n",
    "        epochs_no_improve = 0\n",
    "        torch.save(model.state_dict(), 'best_model.pth')\n",
    "    else:\n",
    "        epochs_no_improve += 1\n",
    "        print(f\"Patience {epochs_no_improve}\")\n",
    "        if epochs_no_improve >= patience:\n",
    "            print(\"Early stopping\")\n",
    "            break\n"
   ]
  },
  {
   "cell_type": "code",
   "execution_count": 10,
   "id": "66fa5eef-5856-4479-a695-25a51a3175df",
   "metadata": {},
   "outputs": [
    {
     "name": "stdout",
     "output_type": "stream",
     "text": [
      "Best Model, Training MAE: 0.03902892768383026, Testing MAE: 0.03909337893128395\n"
     ]
    }
   ],
   "source": [
    "model.load_state_dict(torch.load('best_model.pth', weights_only=True))\n",
    "train_mae = evaluate_model(model, train_loader)\n",
    "test_mae = evaluate_model(model, test_loader)\n",
    "print(f\"Best Model, Training MAE: {train_mae}, Testing MAE: {test_mae}\")"
   ]
  },
  {
   "cell_type": "code",
   "execution_count": 9,
   "id": "3e693a0b-9922-461f-ad23-cd6a8629eb71",
   "metadata": {},
   "outputs": [
    {
     "name": "stdout",
     "output_type": "stream",
     "text": [
      "Last Model, Training MAE: 0.06211673468351364, Testing MAE: 0.06134948879480362\n"
     ]
    }
   ],
   "source": [
    "model.load_state_dict(torch.load('last_model.pth', weights_only=True))\n",
    "train_mae = evaluate_model(model, train_loader)\n",
    "test_mae = evaluate_model(model, test_loader)\n",
    "print(f\"Last Model, Training MAE: {train_mae}, Testing MAE: {test_mae}\")"
   ]
  }
 ],
 "metadata": {
  "kernelspec": {
   "display_name": "Python 3 (ipykernel)",
   "language": "python",
   "name": "python3"
  },
  "language_info": {
   "codemirror_mode": {
    "name": "ipython",
    "version": 3
   },
   "file_extension": ".py",
   "mimetype": "text/x-python",
   "name": "python",
   "nbconvert_exporter": "python",
   "pygments_lexer": "ipython3",
   "version": "3.10.12"
  }
 },
 "nbformat": 4,
 "nbformat_minor": 5
}
