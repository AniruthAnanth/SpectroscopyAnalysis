{
 "cells": [
  {
   "cell_type": "code",
   "execution_count": 1,
   "id": "0a88f540-d440-4d4a-8603-aa4dc5cf1e97",
   "metadata": {
    "scrolled": true
   },
   "outputs": [
    {
     "name": "stdout",
     "output_type": "stream",
     "text": [
      "Requirement already satisfied: numpy in /home/aniruth/miniconda3/lib/python3.12/site-packages (1.26.4)\n",
      "Requirement already satisfied: matplotlib in /home/aniruth/miniconda3/lib/python3.12/site-packages (3.10.0)\n",
      "Requirement already satisfied: seaborn in /home/aniruth/miniconda3/lib/python3.12/site-packages (0.13.2)\n",
      "Requirement already satisfied: tensorflow in /home/aniruth/miniconda3/lib/python3.12/site-packages (2.18.0)\n",
      "Requirement already satisfied: scikit-learn in /home/aniruth/miniconda3/lib/python3.12/site-packages (1.6.0)\n",
      "Requirement already satisfied: visualkeras in /home/aniruth/miniconda3/lib/python3.12/site-packages (0.1.4)\n",
      "Requirement already satisfied: contourpy>=1.0.1 in /home/aniruth/miniconda3/lib/python3.12/site-packages (from matplotlib) (1.3.1)\n",
      "Requirement already satisfied: cycler>=0.10 in /home/aniruth/miniconda3/lib/python3.12/site-packages (from matplotlib) (0.12.1)\n",
      "Requirement already satisfied: fonttools>=4.22.0 in /home/aniruth/miniconda3/lib/python3.12/site-packages (from matplotlib) (4.55.3)\n",
      "Requirement already satisfied: kiwisolver>=1.3.1 in /home/aniruth/miniconda3/lib/python3.12/site-packages (from matplotlib) (1.4.7)\n",
      "Requirement already satisfied: packaging>=20.0 in /home/aniruth/miniconda3/lib/python3.12/site-packages (from matplotlib) (24.1)\n",
      "Requirement already satisfied: pillow>=8 in /home/aniruth/miniconda3/lib/python3.12/site-packages (from matplotlib) (11.0.0)\n",
      "Requirement already satisfied: pyparsing>=2.3.1 in /home/aniruth/miniconda3/lib/python3.12/site-packages (from matplotlib) (3.2.0)\n",
      "Requirement already satisfied: python-dateutil>=2.7 in /home/aniruth/miniconda3/lib/python3.12/site-packages (from matplotlib) (2.9.0.post0)\n",
      "Requirement already satisfied: pandas>=1.2 in /home/aniruth/miniconda3/lib/python3.12/site-packages (from seaborn) (2.2.3)\n",
      "Requirement already satisfied: absl-py>=1.0.0 in /home/aniruth/miniconda3/lib/python3.12/site-packages (from tensorflow) (2.1.0)\n",
      "Requirement already satisfied: astunparse>=1.6.0 in /home/aniruth/miniconda3/lib/python3.12/site-packages (from tensorflow) (1.6.3)\n",
      "Requirement already satisfied: flatbuffers>=24.3.25 in /home/aniruth/miniconda3/lib/python3.12/site-packages (from tensorflow) (24.12.23)\n",
      "Requirement already satisfied: gast!=0.5.0,!=0.5.1,!=0.5.2,>=0.2.1 in /home/aniruth/miniconda3/lib/python3.12/site-packages (from tensorflow) (0.6.0)\n",
      "Requirement already satisfied: google-pasta>=0.1.1 in /home/aniruth/miniconda3/lib/python3.12/site-packages (from tensorflow) (0.2.0)\n",
      "Requirement already satisfied: libclang>=13.0.0 in /home/aniruth/miniconda3/lib/python3.12/site-packages (from tensorflow) (18.1.1)\n",
      "Requirement already satisfied: opt-einsum>=2.3.2 in /home/aniruth/miniconda3/lib/python3.12/site-packages (from tensorflow) (3.4.0)\n",
      "Requirement already satisfied: protobuf!=4.21.0,!=4.21.1,!=4.21.2,!=4.21.3,!=4.21.4,!=4.21.5,<6.0.0dev,>=3.20.3 in /home/aniruth/miniconda3/lib/python3.12/site-packages (from tensorflow) (5.29.1)\n",
      "Requirement already satisfied: requests<3,>=2.21.0 in /home/aniruth/miniconda3/lib/python3.12/site-packages (from tensorflow) (2.32.3)\n",
      "Requirement already satisfied: setuptools in /home/aniruth/miniconda3/lib/python3.12/site-packages (from tensorflow) (75.1.0)\n",
      "Requirement already satisfied: six>=1.12.0 in /home/aniruth/miniconda3/lib/python3.12/site-packages (from tensorflow) (1.16.0)\n",
      "Requirement already satisfied: termcolor>=1.1.0 in /home/aniruth/miniconda3/lib/python3.12/site-packages (from tensorflow) (2.5.0)\n",
      "Requirement already satisfied: typing-extensions>=3.6.6 in /home/aniruth/miniconda3/lib/python3.12/site-packages (from tensorflow) (4.12.2)\n",
      "Requirement already satisfied: wrapt>=1.11.0 in /home/aniruth/miniconda3/lib/python3.12/site-packages (from tensorflow) (1.17.0)\n",
      "Requirement already satisfied: grpcio<2.0,>=1.24.3 in /home/aniruth/miniconda3/lib/python3.12/site-packages (from tensorflow) (1.68.1)\n",
      "Requirement already satisfied: tensorboard<2.19,>=2.18 in /home/aniruth/miniconda3/lib/python3.12/site-packages (from tensorflow) (2.18.0)\n",
      "Requirement already satisfied: keras>=3.5.0 in /home/aniruth/miniconda3/lib/python3.12/site-packages (from tensorflow) (3.7.0)\n",
      "Requirement already satisfied: h5py>=3.11.0 in /home/aniruth/miniconda3/lib/python3.12/site-packages (from tensorflow) (3.12.1)\n",
      "Requirement already satisfied: ml-dtypes<0.5.0,>=0.4.0 in /home/aniruth/miniconda3/lib/python3.12/site-packages (from tensorflow) (0.4.1)\n",
      "Requirement already satisfied: scipy>=1.6.0 in /home/aniruth/miniconda3/lib/python3.12/site-packages (from scikit-learn) (1.14.1)\n",
      "Requirement already satisfied: joblib>=1.2.0 in /home/aniruth/miniconda3/lib/python3.12/site-packages (from scikit-learn) (1.4.2)\n",
      "Requirement already satisfied: threadpoolctl>=3.1.0 in /home/aniruth/miniconda3/lib/python3.12/site-packages (from scikit-learn) (3.5.0)\n",
      "Requirement already satisfied: aggdraw>=1.3.11 in /home/aniruth/miniconda3/lib/python3.12/site-packages (from visualkeras) (1.3.19)\n",
      "Requirement already satisfied: wheel<1.0,>=0.23.0 in /home/aniruth/miniconda3/lib/python3.12/site-packages (from astunparse>=1.6.0->tensorflow) (0.44.0)\n",
      "Requirement already satisfied: rich in /home/aniruth/miniconda3/lib/python3.12/site-packages (from keras>=3.5.0->tensorflow) (13.9.4)\n",
      "Requirement already satisfied: namex in /home/aniruth/miniconda3/lib/python3.12/site-packages (from keras>=3.5.0->tensorflow) (0.0.8)\n",
      "Requirement already satisfied: optree in /home/aniruth/miniconda3/lib/python3.12/site-packages (from keras>=3.5.0->tensorflow) (0.13.1)\n",
      "Requirement already satisfied: pytz>=2020.1 in /home/aniruth/miniconda3/lib/python3.12/site-packages (from pandas>=1.2->seaborn) (2024.2)\n",
      "Requirement already satisfied: tzdata>=2022.7 in /home/aniruth/miniconda3/lib/python3.12/site-packages (from pandas>=1.2->seaborn) (2024.2)\n",
      "Requirement already satisfied: charset-normalizer<4,>=2 in /home/aniruth/miniconda3/lib/python3.12/site-packages (from requests<3,>=2.21.0->tensorflow) (3.3.2)\n",
      "Requirement already satisfied: idna<4,>=2.5 in /home/aniruth/miniconda3/lib/python3.12/site-packages (from requests<3,>=2.21.0->tensorflow) (3.7)\n",
      "Requirement already satisfied: urllib3<3,>=1.21.1 in /home/aniruth/miniconda3/lib/python3.12/site-packages (from requests<3,>=2.21.0->tensorflow) (2.2.3)\n",
      "Requirement already satisfied: certifi>=2017.4.17 in /home/aniruth/miniconda3/lib/python3.12/site-packages (from requests<3,>=2.21.0->tensorflow) (2024.8.30)\n",
      "Requirement already satisfied: markdown>=2.6.8 in /home/aniruth/miniconda3/lib/python3.12/site-packages (from tensorboard<2.19,>=2.18->tensorflow) (3.7)\n",
      "Requirement already satisfied: tensorboard-data-server<0.8.0,>=0.7.0 in /home/aniruth/miniconda3/lib/python3.12/site-packages (from tensorboard<2.19,>=2.18->tensorflow) (0.7.2)\n",
      "Requirement already satisfied: werkzeug>=1.0.1 in /home/aniruth/miniconda3/lib/python3.12/site-packages (from tensorboard<2.19,>=2.18->tensorflow) (3.1.3)\n",
      "Requirement already satisfied: MarkupSafe>=2.1.1 in /home/aniruth/miniconda3/lib/python3.12/site-packages (from werkzeug>=1.0.1->tensorboard<2.19,>=2.18->tensorflow) (3.0.2)\n",
      "Requirement already satisfied: markdown-it-py>=2.2.0 in /home/aniruth/miniconda3/lib/python3.12/site-packages (from rich->keras>=3.5.0->tensorflow) (3.0.0)\n",
      "Requirement already satisfied: pygments<3.0.0,>=2.13.0 in /home/aniruth/miniconda3/lib/python3.12/site-packages (from rich->keras>=3.5.0->tensorflow) (2.18.0)\n",
      "Requirement already satisfied: mdurl~=0.1 in /home/aniruth/miniconda3/lib/python3.12/site-packages (from markdown-it-py>=2.2.0->rich->keras>=3.5.0->tensorflow) (0.1.2)\n"
     ]
    },
    {
     "name": "stderr",
     "output_type": "stream",
     "text": [
      "2025-01-06 20:24:07.548140: E external/local_xla/xla/stream_executor/cuda/cuda_fft.cc:477] Unable to register cuFFT factory: Attempting to register factory for plugin cuFFT when one has already been registered\n",
      "WARNING: All log messages before absl::InitializeLog() is called are written to STDERR\n",
      "E0000 00:00:1736216647.565691     613 cuda_dnn.cc:8310] Unable to register cuDNN factory: Attempting to register factory for plugin cuDNN when one has already been registered\n",
      "E0000 00:00:1736216647.570034     613 cuda_blas.cc:1418] Unable to register cuBLAS factory: Attempting to register factory for plugin cuBLAS when one has already been registered\n",
      "2025-01-06 20:24:07.587356: I tensorflow/core/platform/cpu_feature_guard.cc:210] This TensorFlow binary is optimized to use available CPU instructions in performance-critical operations.\n",
      "To enable the following instructions: AVX2 FMA, in other operations, rebuild TensorFlow with the appropriate compiler flags.\n"
     ]
    }
   ],
   "source": [
    "!python -m pip install numpy matplotlib seaborn tensorflow scikit-learn visualkeras\n",
    "\n",
    "import numpy as np\n",
    "import matplotlib.pyplot as plt\n",
    "import seaborn as sns\n",
    "import tensorflow as tf\n",
    "from tensorflow.keras import Sequential\n",
    "from tensorflow.keras.layers import Dense\n",
    "from tensorflow.keras.callbacks import EarlyStopping\n",
    "from sklearn.metrics import mean_absolute_error\n",
    "from sklearn.preprocessing import normalize\n",
    "import sklearn\n",
    "\n",
    "sns.set_theme(style=\"dark\") \n",
    "sns.set_palette('Set2')"
   ]
  },
  {
   "cell_type": "code",
   "execution_count": 53,
   "id": "c2703980-c5c0-4a76-bc25-a78cbd05e3ff",
   "metadata": {},
   "outputs": [],
   "source": [
    "compound_library = {\n",
    "    \"methane\": {\n",
    "        \"peak_positions\": np.array([2917]),\n",
    "        \"peak_intensities\": np.array([1.0])\n",
    "    },\n",
    "    \"ethane\": {\n",
    "        \"peak_positions\": np.array([995, 1460, 2880]),\n",
    "        \"peak_intensities\": np.array([0.5, 0.8, 1.0])\n",
    "    },\n",
    "    \"propane\": {\n",
    "        \"peak_positions\": np.array([748, 992, 1460, 2883]),\n",
    "        \"peak_intensities\": np.array([0.3, 0.4, 0.8, 1.0])\n",
    "    },\n",
    "    \"annite\": {\n",
    "        \"peak_positions\": np.array([190, 650, 680, 3655]),\n",
    "        \"peak_intensities\": np.array([0.6, 0.7, 0.75, 1.0])\n",
    "    }\n",
    "}"
   ]
  },
  {
   "cell_type": "code",
   "execution_count": 54,
   "id": "c447d7af-0bc6-4e29-9114-ce5d2631be10",
   "metadata": {},
   "outputs": [],
   "source": [
    "# Create a wavenumber axis (e.g., 400 to 3200 cm^-1).\n",
    "# The choice of range depends on typical Raman shifts for organic molecules.\n",
    "num_points = 500\n",
    "wavenumbers = np.linspace(400, 3200, num_points)\n",
    "\n",
    "# Gaussian width for the peaks\n",
    "peak_width = 10.0\n",
    "\n",
    "def generate_compound_spectrum(peak_positions, peak_intensities, wavenumbers, sigma=peak_width):\n",
    "    \"\"\"\n",
    "    Generate a synthetic Raman spectrum for a single compound \n",
    "    with specified peak positions and intensities.\n",
    "    \"\"\"\n",
    "    spectrum = np.zeros_like(wavenumbers)\n",
    "    for pos, inten in zip(peak_positions, peak_intensities):\n",
    "        # Gaussian peaks\n",
    "        spectrum += inten * np.exp(-0.5 * ((wavenumbers - pos) / sigma)**2)\n",
    "    # Normalize for convenience\n",
    "    max_val = np.max(spectrum)\n",
    "    if max_val > 0:\n",
    "        spectrum /= max_val\n",
    "    return spectrum"
   ]
  },
  {
   "cell_type": "code",
   "execution_count": 55,
   "id": "881fa2b4-42f0-4406-a9ca-99c8d09e994d",
   "metadata": {},
   "outputs": [],
   "source": [
    "# Precompute reference spectra for each compound\n",
    "reference_spectra = {}\n",
    "for compound, data in compound_library.items():\n",
    "    ref_spectrum = generate_compound_spectrum(\n",
    "        data[\"peak_positions\"],\n",
    "        data[\"peak_intensities\"],\n",
    "        wavenumbers,\n",
    "        sigma=peak_width\n",
    "    )\n",
    "    reference_spectra[compound] = ref_spectrum"
   ]
  },
  {
   "cell_type": "code",
   "execution_count": 56,
   "id": "eae5a4e5-5c50-4320-9754-7b1be1a2d972",
   "metadata": {},
   "outputs": [],
   "source": [
    "def generate_mixture_spectrum(compounds, concentrations, reference_spectra, noise_level=0.03):\n",
    "    \"\"\"\n",
    "    Generate a synthetic mixture spectrum by linearly combining \n",
    "    the reference spectra according to the provided concentrations.\n",
    "    \"\"\"\n",
    "    spectrum = np.zeros_like(wavenumbers)\n",
    "    \n",
    "    for compound, concentration in zip(compounds, concentrations):\n",
    "        spectrum += concentration * reference_spectra[compound]\n",
    "    # Add some noise\n",
    "    noise = np.random.normal(0, noise_level, size=spectrum.shape)\n",
    "    poly = ((0.00000005 * (wavenumbers)) ** 2) + 0.2 + np.random.normal(0, 0.05)\n",
    "    return spectrum + noise + poly"
   ]
  },
  {
   "cell_type": "code",
   "execution_count": 57,
   "id": "42c91de6-32b9-4333-ae89-d070a73c40d9",
   "metadata": {},
   "outputs": [],
   "source": [
    "# Let's create a dataset\n",
    "n_samples = 20000  # number of training samples\n",
    "compounds = list(compound_library.keys())\n",
    "M = len(compounds)"
   ]
  },
  {
   "cell_type": "code",
   "execution_count": 58,
   "id": "9c9ba640-a2aa-4466-9317-9368f01661fc",
   "metadata": {},
   "outputs": [],
   "source": [
    "X_data = []\n",
    "y_data = []\n",
    "\n",
    "for _ in range(n_samples):\n",
    "    # Generate random concentrations that sum to 1 (for simplicity).\n",
    "    # In reality, you may allow them to be any set of random values.\n",
    "    rand_concs = np.random.rand(M)\n",
    "    rand_concs /= np.sum(rand_concs)  # normalize so sum=1\n",
    "\n",
    "    for i in range(0, M):\n",
    "        if np.random.rand() > 0.6:\n",
    "            rand_concs[i] = 0\n",
    "    \n",
    "    # Get the synthetic mixture spectrum\n",
    "    mixture_spectrum = generate_mixture_spectrum(compounds, rand_concs, reference_spectra)\n",
    "    \n",
    "    X_data.append(mixture_spectrum)\n",
    "    y_data.append(rand_concs)\n",
    "\n",
    "X_data = np.array(X_data)\n",
    "y_data = np.array(y_data)"
   ]
  },
  {
   "cell_type": "code",
   "execution_count": 59,
   "id": "c34ab407-6a8c-4084-b209-b9bd7778db80",
   "metadata": {},
   "outputs": [],
   "source": [
    "# Shuffle data\n",
    "idx = np.random.permutation(n_samples)\n",
    "X_data = normalize(X_data[idx])\n",
    "y_data = y_data[idx]"
   ]
  },
  {
   "cell_type": "code",
   "execution_count": 60,
   "id": "d9e65661-6066-4078-8c7e-1fec104e2625",
   "metadata": {},
   "outputs": [],
   "source": [
    "# Train/test split\n",
    "train_size = int(0.8 * n_samples)\n",
    "X_train, X_test = X_data[:train_size], X_data[train_size:]\n",
    "y_train, y_test = y_data[:train_size], y_data[train_size:]"
   ]
  },
  {
   "cell_type": "code",
   "execution_count": 62,
   "id": "45183306-215c-441c-bf58-8154ff57a1c7",
   "metadata": {
    "jp-MarkdownHeadingCollapsed": true,
    "scrolled": true
   },
   "outputs": [
    {
     "name": "stdout",
     "output_type": "stream",
     "text": [
      "Epoch 1/100\n",
      "\u001b[1m400/400\u001b[0m \u001b[32m━━━━━━━━━━━━━━━━━━━━\u001b[0m\u001b[37m\u001b[0m \u001b[1m2s\u001b[0m 3ms/step - loss: 0.0188 - mae: 0.1061 - root_mean_squared_error: 0.1354 - val_loss: 0.0083 - val_mae: 0.0638 - val_root_mean_squared_error: 0.0913\n",
      "Epoch 2/100\n",
      "\u001b[1m400/400\u001b[0m \u001b[32m━━━━━━━━━━━━━━━━━━━━\u001b[0m\u001b[37m\u001b[0m \u001b[1m1s\u001b[0m 3ms/step - loss: 0.0065 - mae: 0.0560 - root_mean_squared_error: 0.0801 - val_loss: 0.0028 - val_mae: 0.0393 - val_root_mean_squared_error: 0.0527\n",
      "Epoch 3/100\n",
      "\u001b[1m400/400\u001b[0m \u001b[32m━━━━━━━━━━━━━━━━━━━━\u001b[0m\u001b[37m\u001b[0m \u001b[1m1s\u001b[0m 3ms/step - loss: 0.0028 - mae: 0.0387 - root_mean_squared_error: 0.0529 - val_loss: 0.0028 - val_mae: 0.0385 - val_root_mean_squared_error: 0.0534\n",
      "Epoch 4/100\n",
      "\u001b[1m400/400\u001b[0m \u001b[32m━━━━━━━━━━━━━━━━━━━━\u001b[0m\u001b[37m\u001b[0m \u001b[1m1s\u001b[0m 3ms/step - loss: 0.0027 - mae: 0.0375 - root_mean_squared_error: 0.0515 - val_loss: 0.0025 - val_mae: 0.0368 - val_root_mean_squared_error: 0.0504\n",
      "Epoch 5/100\n",
      "\u001b[1m400/400\u001b[0m \u001b[32m━━━━━━━━━━━━━━━━━━━━\u001b[0m\u001b[37m\u001b[0m \u001b[1m1s\u001b[0m 3ms/step - loss: 0.0024 - mae: 0.0352 - root_mean_squared_error: 0.0491 - val_loss: 0.0022 - val_mae: 0.0325 - val_root_mean_squared_error: 0.0464\n",
      "Epoch 6/100\n",
      "\u001b[1m400/400\u001b[0m \u001b[32m━━━━━━━━━━━━━━━━━━━━\u001b[0m\u001b[37m\u001b[0m \u001b[1m1s\u001b[0m 3ms/step - loss: 0.0022 - mae: 0.0332 - root_mean_squared_error: 0.0469 - val_loss: 0.0023 - val_mae: 0.0340 - val_root_mean_squared_error: 0.0481\n",
      "Epoch 7/100\n",
      "\u001b[1m400/400\u001b[0m \u001b[32m━━━━━━━━━━━━━━━━━━━━\u001b[0m\u001b[37m\u001b[0m \u001b[1m1s\u001b[0m 3ms/step - loss: 0.0022 - mae: 0.0331 - root_mean_squared_error: 0.0470 - val_loss: 0.0020 - val_mae: 0.0302 - val_root_mean_squared_error: 0.0444\n",
      "Epoch 8/100\n",
      "\u001b[1m400/400\u001b[0m \u001b[32m━━━━━━━━━━━━━━━━━━━━\u001b[0m\u001b[37m\u001b[0m \u001b[1m1s\u001b[0m 3ms/step - loss: 0.0020 - mae: 0.0311 - root_mean_squared_error: 0.0450 - val_loss: 0.0020 - val_mae: 0.0308 - val_root_mean_squared_error: 0.0450\n",
      "Epoch 9/100\n",
      "\u001b[1m400/400\u001b[0m \u001b[32m━━━━━━━━━━━━━━━━━━━━\u001b[0m\u001b[37m\u001b[0m \u001b[1m1s\u001b[0m 3ms/step - loss: 0.0021 - mae: 0.0320 - root_mean_squared_error: 0.0461 - val_loss: 0.0021 - val_mae: 0.0309 - val_root_mean_squared_error: 0.0460\n",
      "Epoch 10/100\n",
      "\u001b[1m400/400\u001b[0m \u001b[32m━━━━━━━━━━━━━━━━━━━━\u001b[0m\u001b[37m\u001b[0m \u001b[1m1s\u001b[0m 3ms/step - loss: 0.0021 - mae: 0.0317 - root_mean_squared_error: 0.0463 - val_loss: 0.0022 - val_mae: 0.0313 - val_root_mean_squared_error: 0.0468\n",
      "Epoch 11/100\n",
      "\u001b[1m400/400\u001b[0m \u001b[32m━━━━━━━━━━━━━━━━━━━━\u001b[0m\u001b[37m\u001b[0m \u001b[1m1s\u001b[0m 3ms/step - loss: 0.0020 - mae: 0.0308 - root_mean_squared_error: 0.0452 - val_loss: 0.0019 - val_mae: 0.0295 - val_root_mean_squared_error: 0.0437\n",
      "Epoch 12/100\n",
      "\u001b[1m400/400\u001b[0m \u001b[32m━━━━━━━━━━━━━━━━━━━━\u001b[0m\u001b[37m\u001b[0m \u001b[1m1s\u001b[0m 3ms/step - loss: 0.0021 - mae: 0.0310 - root_mean_squared_error: 0.0453 - val_loss: 0.0024 - val_mae: 0.0337 - val_root_mean_squared_error: 0.0486\n",
      "Epoch 13/100\n",
      "\u001b[1m400/400\u001b[0m \u001b[32m━━━━━━━━━━━━━━━━━━━━\u001b[0m\u001b[37m\u001b[0m \u001b[1m1s\u001b[0m 3ms/step - loss: 0.0020 - mae: 0.0299 - root_mean_squared_error: 0.0443 - val_loss: 0.0020 - val_mae: 0.0290 - val_root_mean_squared_error: 0.0445\n",
      "Epoch 14/100\n",
      "\u001b[1m400/400\u001b[0m \u001b[32m━━━━━━━━━━━━━━━━━━━━\u001b[0m\u001b[37m\u001b[0m \u001b[1m1s\u001b[0m 3ms/step - loss: 0.0020 - mae: 0.0297 - root_mean_squared_error: 0.0444 - val_loss: 0.0021 - val_mae: 0.0309 - val_root_mean_squared_error: 0.0461\n",
      "Epoch 15/100\n",
      "\u001b[1m400/400\u001b[0m \u001b[32m━━━━━━━━━━━━━━━━━━━━\u001b[0m\u001b[37m\u001b[0m \u001b[1m1s\u001b[0m 3ms/step - loss: 0.0021 - mae: 0.0316 - root_mean_squared_error: 0.0462 - val_loss: 0.0024 - val_mae: 0.0330 - val_root_mean_squared_error: 0.0491\n",
      "Epoch 16/100\n",
      "\u001b[1m400/400\u001b[0m \u001b[32m━━━━━━━━━━━━━━━━━━━━\u001b[0m\u001b[37m\u001b[0m \u001b[1m1s\u001b[0m 3ms/step - loss: 0.0019 - mae: 0.0296 - root_mean_squared_error: 0.0441 - val_loss: 0.0020 - val_mae: 0.0295 - val_root_mean_squared_error: 0.0452\n",
      "Epoch 17/100\n",
      "\u001b[1m400/400\u001b[0m \u001b[32m━━━━━━━━━━━━━━━━━━━━\u001b[0m\u001b[37m\u001b[0m \u001b[1m1s\u001b[0m 3ms/step - loss: 0.0019 - mae: 0.0295 - root_mean_squared_error: 0.0438 - val_loss: 0.0020 - val_mae: 0.0292 - val_root_mean_squared_error: 0.0444\n",
      "Epoch 18/100\n",
      "\u001b[1m400/400\u001b[0m \u001b[32m━━━━━━━━━━━━━━━━━━━━\u001b[0m\u001b[37m\u001b[0m \u001b[1m1s\u001b[0m 3ms/step - loss: 0.0019 - mae: 0.0294 - root_mean_squared_error: 0.0436 - val_loss: 0.0019 - val_mae: 0.0282 - val_root_mean_squared_error: 0.0435\n",
      "Epoch 19/100\n",
      "\u001b[1m400/400\u001b[0m \u001b[32m━━━━━━━━━━━━━━━━━━━━\u001b[0m\u001b[37m\u001b[0m \u001b[1m1s\u001b[0m 3ms/step - loss: 0.0020 - mae: 0.0297 - root_mean_squared_error: 0.0443 - val_loss: 0.0021 - val_mae: 0.0303 - val_root_mean_squared_error: 0.0456\n",
      "Epoch 20/100\n",
      "\u001b[1m400/400\u001b[0m \u001b[32m━━━━━━━━━━━━━━━━━━━━\u001b[0m\u001b[37m\u001b[0m \u001b[1m1s\u001b[0m 3ms/step - loss: 0.0019 - mae: 0.0291 - root_mean_squared_error: 0.0434 - val_loss: 0.0024 - val_mae: 0.0336 - val_root_mean_squared_error: 0.0487\n",
      "Epoch 21/100\n",
      "\u001b[1m400/400\u001b[0m \u001b[32m━━━━━━━━━━━━━━━━━━━━\u001b[0m\u001b[37m\u001b[0m \u001b[1m1s\u001b[0m 3ms/step - loss: 0.0018 - mae: 0.0286 - root_mean_squared_error: 0.0427 - val_loss: 0.0019 - val_mae: 0.0288 - val_root_mean_squared_error: 0.0433\n",
      "Epoch 22/100\n",
      "\u001b[1m400/400\u001b[0m \u001b[32m━━━━━━━━━━━━━━━━━━━━\u001b[0m\u001b[37m\u001b[0m \u001b[1m1s\u001b[0m 3ms/step - loss: 0.0019 - mae: 0.0291 - root_mean_squared_error: 0.0436 - val_loss: 0.0019 - val_mae: 0.0291 - val_root_mean_squared_error: 0.0440\n",
      "Epoch 23/100\n",
      "\u001b[1m400/400\u001b[0m \u001b[32m━━━━━━━━━━━━━━━━━━━━\u001b[0m\u001b[37m\u001b[0m \u001b[1m1s\u001b[0m 3ms/step - loss: 0.0018 - mae: 0.0285 - root_mean_squared_error: 0.0429 - val_loss: 0.0018 - val_mae: 0.0273 - val_root_mean_squared_error: 0.0426\n",
      "Epoch 24/100\n",
      "\u001b[1m400/400\u001b[0m \u001b[32m━━━━━━━━━━━━━━━━━━━━\u001b[0m\u001b[37m\u001b[0m \u001b[1m1s\u001b[0m 3ms/step - loss: 0.0018 - mae: 0.0282 - root_mean_squared_error: 0.0424 - val_loss: 0.0018 - val_mae: 0.0283 - val_root_mean_squared_error: 0.0430\n",
      "Epoch 25/100\n",
      "\u001b[1m400/400\u001b[0m \u001b[32m━━━━━━━━━━━━━━━━━━━━\u001b[0m\u001b[37m\u001b[0m \u001b[1m1s\u001b[0m 3ms/step - loss: 0.0019 - mae: 0.0287 - root_mean_squared_error: 0.0432 - val_loss: 0.0019 - val_mae: 0.0293 - val_root_mean_squared_error: 0.0442\n",
      "Epoch 26/100\n",
      "\u001b[1m400/400\u001b[0m \u001b[32m━━━━━━━━━━━━━━━━━━━━\u001b[0m\u001b[37m\u001b[0m \u001b[1m1s\u001b[0m 3ms/step - loss: 0.0019 - mae: 0.0289 - root_mean_squared_error: 0.0433 - val_loss: 0.0019 - val_mae: 0.0276 - val_root_mean_squared_error: 0.0430\n",
      "Epoch 27/100\n",
      "\u001b[1m400/400\u001b[0m \u001b[32m━━━━━━━━━━━━━━━━━━━━\u001b[0m\u001b[37m\u001b[0m \u001b[1m1s\u001b[0m 3ms/step - loss: 0.0017 - mae: 0.0278 - root_mean_squared_error: 0.0418 - val_loss: 0.0022 - val_mae: 0.0303 - val_root_mean_squared_error: 0.0464\n",
      "Epoch 28/100\n",
      "\u001b[1m400/400\u001b[0m \u001b[32m━━━━━━━━━━━━━━━━━━━━\u001b[0m\u001b[37m\u001b[0m \u001b[1m1s\u001b[0m 3ms/step - loss: 0.0019 - mae: 0.0286 - root_mean_squared_error: 0.0430 - val_loss: 0.0022 - val_mae: 0.0310 - val_root_mean_squared_error: 0.0468\n",
      "Epoch 29/100\n",
      "\u001b[1m400/400\u001b[0m \u001b[32m━━━━━━━━━━━━━━━━━━━━\u001b[0m\u001b[37m\u001b[0m \u001b[1m1s\u001b[0m 3ms/step - loss: 0.0018 - mae: 0.0285 - root_mean_squared_error: 0.0427 - val_loss: 0.0019 - val_mae: 0.0282 - val_root_mean_squared_error: 0.0435\n",
      "Epoch 30/100\n",
      "\u001b[1m400/400\u001b[0m \u001b[32m━━━━━━━━━━━━━━━━━━━━\u001b[0m\u001b[37m\u001b[0m \u001b[1m1s\u001b[0m 3ms/step - loss: 0.0018 - mae: 0.0280 - root_mean_squared_error: 0.0423 - val_loss: 0.0020 - val_mae: 0.0284 - val_root_mean_squared_error: 0.0445\n",
      "Epoch 31/100\n",
      "\u001b[1m400/400\u001b[0m \u001b[32m━━━━━━━━━━━━━━━━━━━━\u001b[0m\u001b[37m\u001b[0m \u001b[1m1s\u001b[0m 3ms/step - loss: 0.0018 - mae: 0.0280 - root_mean_squared_error: 0.0421 - val_loss: 0.0021 - val_mae: 0.0309 - val_root_mean_squared_error: 0.0461\n",
      "Epoch 32/100\n",
      "\u001b[1m400/400\u001b[0m \u001b[32m━━━━━━━━━━━━━━━━━━━━\u001b[0m\u001b[37m\u001b[0m \u001b[1m1s\u001b[0m 3ms/step - loss: 0.0018 - mae: 0.0283 - root_mean_squared_error: 0.0428 - val_loss: 0.0021 - val_mae: 0.0303 - val_root_mean_squared_error: 0.0458\n",
      "Epoch 33/100\n",
      "\u001b[1m400/400\u001b[0m \u001b[32m━━━━━━━━━━━━━━━━━━━━\u001b[0m\u001b[37m\u001b[0m \u001b[1m1s\u001b[0m 3ms/step - loss: 0.0018 - mae: 0.0281 - root_mean_squared_error: 0.0421 - val_loss: 0.0025 - val_mae: 0.0348 - val_root_mean_squared_error: 0.0502\n"
     ]
    }
   ],
   "source": [
    "## Add early stopping ot prevent overfitting\n",
    "early_stopping = EarlyStopping(monitor='val_loss', patience=10, restore_best_weights=True)\n",
    "\n",
    "# Build a TensorFlow Neural Network\n",
    "regressor = Sequential([\n",
    "    Dense(128, activation='relu', input_shape=(num_points,)),\n",
    "    Dense(64, activation='relu'),\n",
    "    Dense(64, activation='relu'),\n",
    "    Dense(M, activation='linear')  # M outputs, one for each compound concentration\n",
    "])\n",
    "\n",
    "regressor.compile(optimizer='adam', loss='mse', metrics=['mae', tf.keras.metrics.RootMeanSquaredError()])\n",
    "\n",
    "#regressor.load_weights('models/v7.keras')\n",
    "#regressor.load_weights('models/model.keras')\n",
    "\n",
    "# Train the model\n",
    "\n",
    "regressor_history = regressor.fit(\n",
    "    X_train, y_train,\n",
    "    epochs=100, batch_size=32,\n",
    "    validation_split=0.2,\n",
    "    callbacks=[early_stopping]\n",
    ")\n",
    "\n",
    "regressor.save('models/schmegma.keras')"
   ]
  },
  {
   "cell_type": "code",
   "execution_count": 63,
   "id": "4f93c6c4-6787-432d-8bea-b330be78f789",
   "metadata": {},
   "outputs": [
    {
     "name": "stdout",
     "output_type": "stream",
     "text": [
      "\u001b[1m125/125\u001b[0m \u001b[32m━━━━━━━━━━━━━━━━━━━━\u001b[0m\u001b[37m\u001b[0m \u001b[1m0s\u001b[0m 1ms/step - loss: 0.0018 - mae: 0.0269 - root_mean_squared_error: 0.0423\n",
      "\u001b[1m125/125\u001b[0m \u001b[32m━━━━━━━━━━━━━━━━━━━━\u001b[0m\u001b[37m\u001b[0m \u001b[1m0s\u001b[0m 1ms/step\n",
      "Test MSE: 0.0017380574718117714, Test MAE: 0.026790300384163857, Test RMSE: 0.04169001802802086, Test R^2: 0.9331815628733418\n"
     ]
    }
   ],
   "source": [
    "# Evaluate the Model\n",
    "mse, mae, rmse = regressor.evaluate(X_test, y_test, verbose=1)\n",
    "r2 = sklearn.metrics.r2_score(regressor.predict(X_test), y_test)\n",
    "print(f\"Test MSE: {mse}, Test MAE: {mae}, Test RMSE: {rmse}, Test R^2: {r2}\")"
   ]
  },
  {
   "cell_type": "code",
   "execution_count": 69,
   "id": "4c987176-af21-4255-b79d-8424fdfc82da",
   "metadata": {},
   "outputs": [
    {
     "data": {
      "text/plain": [
       "Text(0, 0.5, 'Intensity')"
      ]
     },
     "execution_count": 69,
     "metadata": {},
     "output_type": "execute_result"
    },
    {
     "data": {
      "image/png": "[encoded data removed]",
      "text/plain": [
       "<Figure size 600x200 with 1 Axes>"
      ]
     },
     "metadata": {},
     "output_type": "display_data"
    }
   ],
   "source": [
    "plt.figure(figsize=(6, 2))\n",
    "plt.plot(wavenumbers, X_data[0])\n",
    "plt.xlabel(\"Raman shift (cm-1)\")\n",
    "plt.ylabel(\"Intensity\")"
   ]
  },
  {
   "cell_type": "code",
   "execution_count": 65,
   "id": "e8085996-3480-40ad-97d8-f102bb1d2aec",
   "metadata": {},
   "outputs": [],
   "source": [
    "import ramanspy"
   ]
  },
  {
   "cell_type": "code",
   "execution_count": 66,
   "id": "8d221244-8f48-45e3-be0c-85b1651b23f7",
   "metadata": {},
   "outputs": [],
   "source": [
    "spectrum_containers, metadata = ramanspy.datasets.rruff('fair_oriented')"
   ]
  },
  {
   "cell_type": "code",
   "execution_count": 107,
   "id": "fc602f30-d0d0-40ce-baa7-b765e789114b",
   "metadata": {},
   "outputs": [
    {
     "data": {
      "text/plain": [
       "TensorShape([500])"
      ]
     },
     "execution_count": 107,
     "metadata": {},
     "output_type": "execute_result"
    }
   ],
   "source": [
    "annite = spectrum_containers[0]\n",
    "#annite = ramanspy.preprocessing.misc.Cropper(region=(400, 3200)).apply(annite)\n",
    "\n",
    "#ramanspy.plot.spectra(annite)\n",
    "x_annite, y_annite = annite.spectral_axis, annite.spectral_data\n",
    "\n",
    "import numpy as np\n",
    "from scipy.interpolate import interp1d\n",
    "\n",
    "def interpolate_function(x_values, y_values, kind='linear'):\n",
    "    \"\"\"\n",
    "    Interpolates a set of x and y values to create a function f such that f(x) = y.\n",
    "\n",
    "    Parameters:\n",
    "    x_values (list or array): The x data points.\n",
    "    y_values (list or array): The y data points.\n",
    "    kind (str): The type of interpolation. Options include 'linear', 'quadratic', 'cubic'.\n",
    "\n",
    "    Returns:\n",
    "    function: A callable function that interpolates the data.\n",
    "    \"\"\"\n",
    "    # Ensure the inputs are numpy arrays\n",
    "    x = np.array(x_values)\n",
    "    y = np.array(y_values)\n",
    "    \n",
    "    # Create the interpolating function\n",
    "    f = interp1d(x, y, kind=kind, fill_value=\"extrapolate\")\n",
    "    \n",
    "    return f\n",
    "\n",
    "# AIST DATA GYATT\n",
    "import matplotlib.pyplot as plt\n",
    "import sklearn\n",
    "\n",
    "f_interped = interpolate_function(x_annite, y_annite, kind='next')\n",
    "\n",
    "num_points = 500\n",
    "wavenumbers = np.linspace(400, 3200, num_points)\n",
    "YY = list(map(f_interped, wavenumbers))\n",
    "YY = np.array(YY)\n",
    "YY = np.nan_to_num(YY)\n",
    "YY = normalize(YY[:,np.newaxis], axis=0).ravel()\n",
    "assert YY.shape == X_test[0].shape\n",
    "#plt.plot(wavenumbers, YY)\n",
    "YY = tf.convert_to_tensor(YY)\n",
    "YY.shape\n",
    "regressor.predict(YY)"
   ]
  }
 ],
 "metadata": {
  "kernelspec": {
   "display_name": "Python 3 (ipykernel)",
   "language": "python",
   "name": "python3"
  },
  "language_info": {
   "codemirror_mode": {
    "name": "ipython",
    "version": 3
   },
   "file_extension": ".py",
   "mimetype": "text/x-python",
   "name": "python",
   "nbconvert_exporter": "python",
   "pygments_lexer": "ipython3",
   "version": "3.10.12"
  }
 },
 "nbformat": 4,
 "nbformat_minor": 5
}
