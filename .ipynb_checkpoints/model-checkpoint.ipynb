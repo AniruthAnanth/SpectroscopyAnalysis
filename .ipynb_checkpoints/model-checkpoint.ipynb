{
 "cells": [
  {
   "cell_type": "code",
   "execution_count": 1,
   "id": "993c9e23-6b19-43c7-881a-268897e57f14",
   "metadata": {},
   "outputs": [],
   "source": [
    "import cv2\n",
    "import requests\n",
    "import numpy as np\n",
    "import matplotlib.pyplot as plt\n",
    "import tensorflow as tf\n",
    "from tensorflow.keras import Sequential\n",
    "from tensorflow.keras.layers import Dense\n",
    "from tensorflow.keras.callbacks import EarlyStopping\n",
    "from sklearn.metrics import mean_absolute_error\n",
    "from sklearn.preprocessing import normalize\n",
    "from io import BytesIO\n",
    "from PIL import Image"
   ]
  },
  {
   "cell_type": "code",
   "execution_count": 2,
   "id": "c2703980-c5c0-4a76-bc25-a78cbd05e3ff",
   "metadata": {},
   "outputs": [],
   "source": [
    "def extract_spectrum_from_url(filename, threshold=40, n_values=500):\n",
    "    # Load the image from the URL\n",
    "    response = requests.get(f'https://sdbs.db.aist.go.jp/API/ImageDisplayHandler.ashx?FileName={filename}&SpectralType=rm&FileType=Spectrl&Format=Old')\n",
    "    image = Image.open(BytesIO(response.content))\n",
    "    image = image.convert('RGB')  # Ensure the image has 3 channels\n",
    "    image = np.array(image)\n",
    "    \n",
    "    # Convert to grayscale\n",
    "    gray = cv2.cvtColor(image, cv2.COLOR_RGB2GRAY)\n",
    "\n",
    "    # Define the fixed high-sensitivity area (bounding rectangle coordinates)\n",
    "    top_row = 4\n",
    "    bottom_row = 279\n",
    "    left_col = 25\n",
    "    right_col = 737\n",
    "\n",
    "    # Crop the image to the defined high-sensitivity region\n",
    "    cropped_gray = gray[top_row:bottom_row, left_col:right_col]\n",
    "\n",
    "    spectrum_points = []\n",
    "    height, width = cropped_gray.shape\n",
    "    for y in range(height):\n",
    "        for x in range(width):\n",
    "            if cropped_gray[y, x]< threshold:\n",
    "                spectrum_points.append([x, y])\n",
    "    \n",
    "    spectrum_points = np.array(spectrum_points)\n",
    "\n",
    "    # Sort by x-coordinate to align with the wavenumber axis\n",
    "    spectrum_points = spectrum_points[np.argsort(spectrum_points[:, 0])]\n",
    "\n",
    "    # Extract x (wavenumber) and y (intensity) values\n",
    "    x_pixels = spectrum_points[:, 0]\n",
    "    y_pixels = spectrum_points[:, 1]\n",
    "\n",
    "    # Flip y-axis (image origin is top-left, but plot origin is bottom-left)\n",
    "    y_pixels = cropped_gray.shape[0] - y_pixels\n",
    "\n",
    "    # Normalize to map pixels to approximate wavenumber and intensity ranges\n",
    "    # Assuming x corresponds to 4000-0 cm^-1 and y is intensity 0-100\n",
    "    x = np.interp(x_pixels, (x_pixels.min(), x_pixels.max()), (4000, 0))\n",
    "    y = np.interp(y_pixels, (y_pixels.min(), y_pixels.max()), (0, 100))\n",
    "\n",
    "    y_2 = []\n",
    "\n",
    "        # Iterate over the range of x_i values\n",
    "    for x_i in np.linspace(0, 4000, n_values):  # Generating 500 points between 4000 and 0\n",
    "        # Find the index of the closest value in x, but prioritize higher y values\n",
    "        closest_indices = np.where(np.abs(x - x_i) == np.min(np.abs(x - x_i)))[0]  # All closest indices\n",
    "        best_index = closest_indices[np.argmax(y[closest_indices])]  # Select index with the highest y value\n",
    "    \n",
    "        y_2.append(y[best_index])  # Append the corresponding y value\n",
    "\n",
    "    return np.linspace(0, 4000, n_values), np.array(y_2)"
   ]
  },
  {
   "cell_type": "code",
   "execution_count": 3,
   "id": "881fa2b4-42f0-4406-a9ca-99c8d09e994d",
   "metadata": {},
   "outputs": [
    {
     "name": "stdout",
     "output_type": "stream",
     "text": [
      "CPU times: total: 1.08 s\n",
      "Wall time: 4.26 s\n"
     ]
    }
   ],
   "source": [
    "%%time\n",
    "\n",
    "compound_library = {\n",
    "    \"methanol-d\": \"RM1733\",\n",
    "    \"methylamine\": \"RM2121\",\n",
    "    \"nitromethane\": \"RM28\",\n",
    "    \"dichloromethane\": \"RM12\",\n",
    "    \"benzhydrylamine\": \"RM3081\",\n",
    "}\n",
    "\n",
    "num_points = 500\n",
    "wavenumbers = np.linspace(0, 4000, num_points)\n",
    "\n",
    "# Precompute reference spectra for each compound\n",
    "reference_spectra = {}\n",
    "for compound, compound_filename in compound_library.items():\n",
    "    _, ref_spectrum = extract_spectrum_from_url(compound_filename, n_values=num_points)\n",
    "    reference_spectra[compound] = ref_spectrum"
   ]
  },
  {
   "cell_type": "code",
   "execution_count": 4,
   "id": "9c9ba640-a2aa-4466-9317-9368f01661fc",
   "metadata": {},
   "outputs": [
    {
     "name": "stdout",
     "output_type": "stream",
     "text": [
      "CPU times: total: 312 ms\n",
      "Wall time: 431 ms\n"
     ]
    }
   ],
   "source": [
    "%%time\n",
    "\n",
    "def generate_mixture_spectrum(compounds, concentrations, reference_spectra, noise_level=0.03):\n",
    "    \"\"\"\n",
    "    Generate a synthetic mixture spectrum by linearly combining \n",
    "    the reference spectra according to the provided concentrations.\n",
    "    \"\"\"\n",
    "    spectrum = np.zeros_like(wavenumbers)\n",
    "    \n",
    "    for compound, concentration in zip(compounds, concentrations):\n",
    "        spectrum += concentration * reference_spectra[compound]\n",
    "    # Add some noise\n",
    "    noise = np.random.normal(0, noise_level, size=spectrum.shape)\n",
    "    return spectrum + noise\n",
    "\n",
    "# Let's create a dataset\n",
    "n_samples = 10000  # number of training samples\n",
    "compounds = list(compound_library.keys())\n",
    "M = len(compounds)\n",
    "\n",
    "X_data = []\n",
    "y_data = []\n",
    "\n",
    "for _ in range(n_samples):\n",
    "    # Generate random concentrations that sum to 1 (for simplicity).\n",
    "    # In reality, you may allow them to be any set of random values.\n",
    "    rand_concs = np.random.rand(M)\n",
    "    rand_concs /= np.sum(rand_concs)  # normalize so sum=1\n",
    "\n",
    "    for i in range(0, M):\n",
    "        if np.random.rand() > 0.7:\n",
    "            rand_concs[i] = 0\n",
    "    \n",
    "    # Get the synthetic mixture spectrum\n",
    "    mixture_spectrum = generate_mixture_spectrum(compounds, rand_concs, reference_spectra)\n",
    "    \n",
    "    X_data.append(mixture_spectrum)\n",
    "    y_data.append(rand_concs)\n",
    "\n",
    "X_data = np.array(X_data)\n",
    "y_data = np.array(y_data)"
   ]
  },
  {
   "cell_type": "code",
   "execution_count": 5,
   "id": "d9e65661-6066-4078-8c7e-1fec104e2625",
   "metadata": {},
   "outputs": [],
   "source": [
    "# Shuffle data\n",
    "idx = np.random.permutation(n_samples)\n",
    "X_data = normalize(X_data[idx])\n",
    "y_data = normalize(y_data[idx])\n",
    "\n",
    "# Train/test split\n",
    "train_size = int(0.8 * n_samples)\n",
    "X_train, X_test = X_data[:train_size], X_data[train_size:]\n",
    "y_train, y_test = y_data[:train_size], y_data[train_size:]"
   ]
  },
  {
   "cell_type": "code",
   "execution_count": 6,
   "id": "2bae29f8-eca2-4973-8cab-20f3837502d4",
   "metadata": {
    "scrolled": true
   },
   "outputs": [
    {
     "name": "stdout",
     "output_type": "stream",
     "text": [
      "Epoch 1/50\n"
     ]
    },
    {
     "name": "stderr",
     "output_type": "stream",
     "text": [
      "C:\\Users\\aniru\\.pyenv\\pyenv-win\\versions\\3.10.11\\lib\\site-packages\\keras\\src\\layers\\core\\dense.py:87: UserWarning: Do not pass an `input_shape`/`input_dim` argument to a layer. When using Sequential models, prefer using an `Input(shape)` object as the first layer in the model instead.\n",
      "  super().__init__(activity_regularizer=activity_regularizer, **kwargs)\n"
     ]
    },
    {
     "name": "stdout",
     "output_type": "stream",
     "text": [
      "\u001b[1m200/200\u001b[0m \u001b[32m━━━━━━━━━━━━━━━━━━━━\u001b[0m\u001b[37m\u001b[0m \u001b[1m2s\u001b[0m 4ms/step - loss: 0.0594 - mae: 0.1690 - val_loss: 4.0262e-04 - val_mae: 0.0149\n",
      "Epoch 2/50\n",
      "\u001b[1m200/200\u001b[0m \u001b[32m━━━━━━━━━━━━━━━━━━━━\u001b[0m\u001b[37m\u001b[0m \u001b[1m1s\u001b[0m 3ms/step - loss: 3.1868e-04 - mae: 0.0135 - val_loss: 2.3683e-04 - val_mae: 0.0117\n",
      "Epoch 3/50\n",
      "\u001b[1m200/200\u001b[0m \u001b[32m━━━━━━━━━━━━━━━━━━━━\u001b[0m\u001b[37m\u001b[0m \u001b[1m1s\u001b[0m 3ms/step - loss: 1.6391e-04 - mae: 0.0098 - val_loss: 1.2710e-04 - val_mae: 0.0082\n",
      "Epoch 4/50\n",
      "\u001b[1m200/200\u001b[0m \u001b[32m━━━━━━━━━━━━━━━━━━━━\u001b[0m\u001b[37m\u001b[0m \u001b[1m1s\u001b[0m 3ms/step - loss: 1.0827e-04 - mae: 0.0081 - val_loss: 1.1732e-04 - val_mae: 0.0079\n",
      "Epoch 5/50\n",
      "\u001b[1m200/200\u001b[0m \u001b[32m━━━━━━━━━━━━━━━━━━━━\u001b[0m\u001b[37m\u001b[0m \u001b[1m1s\u001b[0m 3ms/step - loss: 8.3622e-05 - mae: 0.0072 - val_loss: 8.3893e-05 - val_mae: 0.0064\n",
      "Epoch 6/50\n",
      "\u001b[1m200/200\u001b[0m \u001b[32m━━━━━━━━━━━━━━━━━━━━\u001b[0m\u001b[37m\u001b[0m \u001b[1m1s\u001b[0m 3ms/step - loss: 7.6341e-05 - mae: 0.0069 - val_loss: 9.5966e-05 - val_mae: 0.0070\n",
      "Epoch 7/50\n",
      "\u001b[1m200/200\u001b[0m \u001b[32m━━━━━━━━━━━━━━━━━━━━\u001b[0m\u001b[37m\u001b[0m \u001b[1m1s\u001b[0m 3ms/step - loss: 6.7566e-05 - mae: 0.0065 - val_loss: 8.2784e-05 - val_mae: 0.0063\n",
      "Epoch 8/50\n",
      "\u001b[1m200/200\u001b[0m \u001b[32m━━━━━━━━━━━━━━━━━━━━\u001b[0m\u001b[37m\u001b[0m \u001b[1m1s\u001b[0m 3ms/step - loss: 5.9623e-05 - mae: 0.0061 - val_loss: 7.3458e-05 - val_mae: 0.0059\n",
      "Epoch 9/50\n",
      "\u001b[1m200/200\u001b[0m \u001b[32m━━━━━━━━━━━━━━━━━━━━\u001b[0m\u001b[37m\u001b[0m \u001b[1m1s\u001b[0m 3ms/step - loss: 5.0811e-05 - mae: 0.0056 - val_loss: 6.7452e-05 - val_mae: 0.0055\n",
      "Epoch 10/50\n",
      "\u001b[1m200/200\u001b[0m \u001b[32m━━━━━━━━━━━━━━━━━━━━\u001b[0m\u001b[37m\u001b[0m \u001b[1m1s\u001b[0m 3ms/step - loss: 4.9656e-05 - mae: 0.0055 - val_loss: 8.7676e-05 - val_mae: 0.0064\n",
      "Epoch 11/50\n",
      "\u001b[1m200/200\u001b[0m \u001b[32m━━━━━━━━━━━━━━━━━━━━\u001b[0m\u001b[37m\u001b[0m \u001b[1m1s\u001b[0m 3ms/step - loss: 5.8595e-05 - mae: 0.0060 - val_loss: 5.9019e-05 - val_mae: 0.0050\n",
      "Epoch 12/50\n",
      "\u001b[1m200/200\u001b[0m \u001b[32m━━━━━━━━━━━━━━━━━━━━\u001b[0m\u001b[37m\u001b[0m \u001b[1m1s\u001b[0m 3ms/step - loss: 5.1042e-05 - mae: 0.0056 - val_loss: 7.8230e-05 - val_mae: 0.0062\n",
      "Epoch 13/50\n",
      "\u001b[1m200/200\u001b[0m \u001b[32m━━━━━━━━━━━━━━━━━━━━\u001b[0m\u001b[37m\u001b[0m \u001b[1m1s\u001b[0m 3ms/step - loss: 5.5223e-05 - mae: 0.0059 - val_loss: 6.0088e-05 - val_mae: 0.0051\n",
      "Epoch 14/50\n",
      "\u001b[1m200/200\u001b[0m \u001b[32m━━━━━━━━━━━━━━━━━━━━\u001b[0m\u001b[37m\u001b[0m \u001b[1m1s\u001b[0m 3ms/step - loss: 5.2115e-05 - mae: 0.0057 - val_loss: 9.3646e-05 - val_mae: 0.0070\n",
      "Epoch 15/50\n",
      "\u001b[1m200/200\u001b[0m \u001b[32m━━━━━━━━━━━━━━━━━━━━\u001b[0m\u001b[37m\u001b[0m \u001b[1m1s\u001b[0m 3ms/step - loss: 5.9749e-05 - mae: 0.0060 - val_loss: 5.7990e-05 - val_mae: 0.0049\n",
      "Epoch 16/50\n",
      "\u001b[1m200/200\u001b[0m \u001b[32m━━━━━━━━━━━━━━━━━━━━\u001b[0m\u001b[37m\u001b[0m \u001b[1m1s\u001b[0m 3ms/step - loss: 4.7194e-05 - mae: 0.0054 - val_loss: 5.7987e-05 - val_mae: 0.0050\n",
      "Epoch 17/50\n",
      "\u001b[1m200/200\u001b[0m \u001b[32m━━━━━━━━━━━━━━━━━━━━\u001b[0m\u001b[37m\u001b[0m \u001b[1m1s\u001b[0m 3ms/step - loss: 5.3170e-05 - mae: 0.0058 - val_loss: 5.6646e-05 - val_mae: 0.0050\n",
      "Epoch 18/50\n",
      "\u001b[1m200/200\u001b[0m \u001b[32m━━━━━━━━━━━━━━━━━━━━\u001b[0m\u001b[37m\u001b[0m \u001b[1m1s\u001b[0m 3ms/step - loss: 4.6357e-05 - mae: 0.0054 - val_loss: 6.5652e-05 - val_mae: 0.0055\n",
      "Epoch 19/50\n",
      "\u001b[1m200/200\u001b[0m \u001b[32m━━━━━━━━━━━━━━━━━━━━\u001b[0m\u001b[37m\u001b[0m \u001b[1m1s\u001b[0m 3ms/step - loss: 4.5821e-05 - mae: 0.0054 - val_loss: 7.2939e-05 - val_mae: 0.0059\n",
      "Epoch 20/50\n",
      "\u001b[1m200/200\u001b[0m \u001b[32m━━━━━━━━━━━━━━━━━━━━\u001b[0m\u001b[37m\u001b[0m \u001b[1m1s\u001b[0m 3ms/step - loss: 7.9586e-05 - mae: 0.0069 - val_loss: 5.1263e-05 - val_mae: 0.0046\n",
      "Epoch 21/50\n",
      "\u001b[1m200/200\u001b[0m \u001b[32m━━━━━━━━━━━━━━━━━━━━\u001b[0m\u001b[37m\u001b[0m \u001b[1m1s\u001b[0m 3ms/step - loss: 3.9301e-05 - mae: 0.0049 - val_loss: 6.4648e-05 - val_mae: 0.0056\n",
      "Epoch 22/50\n",
      "\u001b[1m200/200\u001b[0m \u001b[32m━━━━━━━━━━━━━━━━━━━━\u001b[0m\u001b[37m\u001b[0m \u001b[1m1s\u001b[0m 3ms/step - loss: 3.9644e-05 - mae: 0.0050 - val_loss: 6.2300e-05 - val_mae: 0.0054\n",
      "Epoch 23/50\n",
      "\u001b[1m200/200\u001b[0m \u001b[32m━━━━━━━━━━━━━━━━━━━━\u001b[0m\u001b[37m\u001b[0m \u001b[1m1s\u001b[0m 3ms/step - loss: 4.0706e-05 - mae: 0.0050 - val_loss: 7.4235e-05 - val_mae: 0.0060\n",
      "Epoch 24/50\n",
      "\u001b[1m200/200\u001b[0m \u001b[32m━━━━━━━━━━━━━━━━━━━━\u001b[0m\u001b[37m\u001b[0m \u001b[1m1s\u001b[0m 3ms/step - loss: 3.9569e-05 - mae: 0.0050 - val_loss: 6.8434e-05 - val_mae: 0.0056\n",
      "Epoch 25/50\n",
      "\u001b[1m200/200\u001b[0m \u001b[32m━━━━━━━━━━━━━━━━━━━━\u001b[0m\u001b[37m\u001b[0m \u001b[1m1s\u001b[0m 3ms/step - loss: 4.7706e-05 - mae: 0.0054 - val_loss: 6.2918e-05 - val_mae: 0.0054\n",
      "CPU times: total: 4.69 s\n",
      "Wall time: 16.9 s\n"
     ]
    }
   ],
   "source": [
    "%%time\n",
    "# Add early stopping ot prevent overfitting\n",
    "early_stopping = EarlyStopping(monitor='val_loss', patience=5, restore_best_weights=True)\n",
    "\n",
    "# Build a TensorFlow Neural Network\n",
    "regressor = Sequential([\n",
    "    Dense(128, activation='relu', input_shape=(num_points,)),\n",
    "    Dense(64, activation='relu'),\n",
    "    Dense(64, activation='relu'),\n",
    "    Dense(M, activation='linear')  # M outputs, one for each compound concentration\n",
    "])\n",
    "\n",
    "regressor.compile(optimizer='adam', loss='mse', metrics=['mae'])\n",
    "\n",
    "# Train the model\n",
    "regressor_history = regressor.fit(\n",
    "    X_train, y_train,\n",
    "    epochs=50, batch_size=32,\n",
    "    validation_split=0.2,\n",
    "    callbacks=[early_stopping]\n",
    ")\n",
    "\n",
    "regressor.save('models/model.keras')"
   ]
  },
  {
   "cell_type": "code",
   "execution_count": 41,
   "id": "4f93c6c4-6787-432d-8bea-b330be78f789",
   "metadata": {},
   "outputs": [
    {
     "name": "stdout",
     "output_type": "stream",
     "text": [
      "Test MSE: 0.00016156144556589425, Test MAE: 0.004753114655613899\n"
     ]
    }
   ],
   "source": [
    "# Evaluate the Model\n",
    "mse, mae = regressor.evaluate(X_test, y_test, verbose=0)\n",
    "print(f\"Test MSE: {mse}, Test MAE: {mae}\")"
   ]
  },
  {
   "cell_type": "code",
   "execution_count": 40,
   "id": "60c74c3d-4986-47a0-aad4-8a3e514bd59c",
   "metadata": {},
   "outputs": [
    {
     "data": {
      "image/png": "[encoded data removed]",
      "text/plain": [
       "<Figure size 400x400 with 1 Axes>"
      ]
     },
     "metadata": {},
     "output_type": "display_data"
    }
   ],
   "source": [
    "predictions = regressor.predict(X_test, verbose=0)\n",
    "idx_plot = np.random.randint(0, len(X_test))\n",
    "\n",
    "sample_mae = mean_absolute_error(predictions[idx_plot], y_test[idx_plot])\n",
    "\n",
    "x_range = range(0, len(predictions[idx_plot]))\n",
    "plt.figure(figsize=(4, 4))\n",
    "plt.plot(x_range, y_test[idx_plot], linestyle='none', marker='o', color='black', label='True')\n",
    "plt.plot(x_range, predictions[idx_plot], linestyle='none', marker='x', color='red', label='Predicted')\n",
    "plt.legend(loc='upper right')\n",
    "plt.title(f\"MAE for Sample #{idx_plot} : {sample_mae:0.4f}\")\n",
    "plt.ylabel('Concentration')\n",
    "plt.xlabel('Compound ID')\n",
    "plt.show()"
   ]
  }
 ],
 "metadata": {
  "kernelspec": {
   "display_name": "Python 3 (ipykernel)",
   "language": "python",
   "name": "python3"
  },
  "language_info": {
   "codemirror_mode": {
    "name": "ipython",
    "version": 3
   },
   "file_extension": ".py",
   "mimetype": "text/x-python",
   "name": "python",
   "nbconvert_exporter": "python",
   "pygments_lexer": "ipython3",
   "version": "3.10.11"
  }
 },
 "nbformat": 4,
 "nbformat_minor": 5
}
